{
 "cells": [
  {
   "cell_type": "code",
   "execution_count": null,
   "id": "2e1499cc",
   "metadata": {},
   "outputs": [],
   "source": [
    "import json\n",
    "from langchain.schema import Document\n",
    "\n",
    "# Load your JSON data\n",
    "with open(\"shl_recommended_assessments.json\", \"r\", encoding=\"utf-8\") as f:\n",
    "    data = json.load(f)\n",
    "assessments = data.get(\"recommended_assessments\", data)\n",
    "\n",
    "docs = []\n",
    "for item in assessments:\n",
    "    # Metadata: all fields, lists as comma-separated strings\n",
    "    metadata = {}\n",
    "    for key, value in item.items():\n",
    "        if isinstance(value, list):\n",
    "            value_str = \", \".join(str(v) for v in value)\n",
    "        else:\n",
    "            value_str = str(value)\n",
    "        metadata[key] = value_str\n",
    "\n",
    "    # Page content: all fields except url\n",
    "    lines = []\n",
    "    for key, value in item.items():\n",
    "        if key == \"url\":\n",
    "            continue\n",
    "        if isinstance(value, list):\n",
    "            value_str = \", \".join(str(v) for v in value)\n",
    "        else:\n",
    "            value_str = str(value)\n",
    "        lines.append(f\"{key}: {value_str}\")\n",
    "    page_content = \" | \".join(lines)\n",
    "    docs.append(Document(page_content=page_content, metadata=metadata))\n"
   ]
  },
  {
   "cell_type": "code",
   "execution_count": null,
   "id": "cb21895f",
   "metadata": {},
   "outputs": [],
   "source": [
    "from langchain_pinecone import PineconeVectorStore\n",
    "from langchain_huggingface import HuggingFaceEmbeddings\n",
    "import os\n",
    "\n",
    "os.environ[\"PINECONE_API_KEY\"] = \"pcsk_5jw9QX_FBu8iLpSYLHRTHrPDjtNgdcHTSGGjf3Keo97ovDzAKNkWRZoHVT7HP81b3vLayT\"\n",
    "\n",
    "# Example embedding object (using all-mpnet-base-v2)\n",
    "embedding = HuggingFaceEmbeddings(model_name=\"sentence-transformers/all-mpnet-base-v2\")\n",
    "\n",
    "# Upsert docs to Pinecone in one step\n",
    "vectorstore = PineconeVectorStore.from_documents(\n",
    "    docs,\n",
    "    embedding=embedding,\n",
    "    index_name=\"shl2\"  # Your Pinecone index name\n",
    ")\n"
   ]
  },
  {
   "cell_type": "code",
   "execution_count": 36,
   "id": "d6bbba7c",
   "metadata": {},
   "outputs": [],
   "source": [
    "# Example: vectorstore = PineconeVectorStore.from_existing_index(index_name=\"your-index\")\n",
    "retriever = vectorstore.as_retriever(search_kwargs={\"k\": 20})\n",
    "\n"
   ]
  },
  {
   "cell_type": "code",
   "execution_count": 97,
   "id": "286e6584",
   "metadata": {},
   "outputs": [],
   "source": [
    "from langchain_mistralai.chat_models import ChatMistralAI\n",
    "from langchain.chains.combine_documents import create_stuff_documents_chain\n",
    "from langchain_core.prompts import ChatPromptTemplate\n",
    "from langchain.chains import create_retrieval_chain\n",
    "from langchain_cohere.rerank import CohereRerank\n",
    "from langchain.retrievers.contextual_compression import ContextualCompressionRetriever\n",
    "\n",
    "model = ChatMistralAI(mistral_api_key=\"ChfKt3JpOPaWpnwZ1FVjFZQn3tGnPGij\")\n",
    "\n",
    "\n",
    "\n",
    "prompt = ChatPromptTemplate.from_template(\"\"\"\n",
    "You are a helpful assistant for recommending SHL assessments.\n",
    "\n",
    "Given the following SHL assessment documents, return a JSON object with the key \"recommended_assessments\", whose value is a list of up to 10 recommended assessments. \n",
    "Each assessment should include all the fields present in the input (including lists), and the output should be pretty-printed and valid JSON, matching this example:\n",
    "\n",
    "{{\n",
    "    \"recommended_assessments\": [\n",
    "        {{\n",
    "            \"url\": \"...\",\n",
    "            \"adaptive_support\": \"...\",\n",
    "            \"description\": \"...\",\n",
    "            \"duration\": ...,\n",
    "            \"remote_support\": \"...\",\n",
    "            \"test_type\": \"...\",\n",
    "            \"job_levels\": [...],\n",
    "            \"languages\": [...]\n",
    "        }},\n",
    "        {{\n",
    "            \"url\": \"...\",\n",
    "            \"adaptive_support\": \"...\",\n",
    "            \"description\": \"...\",\n",
    "            \"duration\": ...,\n",
    "            \"remote_support\": \"...\",\n",
    "            \"test_type\": \"...\",\n",
    "            \"job_levels\": [...],\n",
    "            \"languages\": [...]\n",
    "        }}\n",
    "        // up to 10 items\n",
    "    ]\n",
    "}}\n",
    "\n",
    "<context>\n",
    "{context}\n",
    "</context>\n",
    "\n",
    "Question: {input}\n",
    "\n",
    "Only include information from the provided context. If there are no relevant assessments, return an empty list.\n",
    "\"\"\")\n"
   ]
  },
  {
   "cell_type": "code",
   "execution_count": null,
   "id": "eecbb155",
   "metadata": {},
   "outputs": [],
   "source": [
    "\n",
    "document_chain = create_stuff_documents_chain(model, prompt)\n",
    "retrieval_chain = create_retrieval_chain(retriever, document_chain)\n"
   ]
  },
  {
   "cell_type": "code",
   "execution_count": 99,
   "id": "706f6e42",
   "metadata": {},
   "outputs": [
    {
     "data": {
      "text/plain": [
       "{'input': 'Recommend a test for mid-professional level candidates that evaluates programming skills',\n",
       " 'context': [Document(id='12a87632-e766-412c-86b1-aa6c64348fd8', metadata={'adaptive_support': 'No', 'description': 'An AI-powered coding simulation assessment that evaluates candidate’s programming ability. Offers a familiar IDE environment available in over 40 different programming languages and tests candidates using real-world coding problems.Your use of this assessment product may be subject to New York City Law 144 (Regulation of the Use of Automated Employment Decision Tools) (dated July 5, 2023). Compliance with Law 144 is your responsibility.\\r\\nRead more on https://www.shl.com/legal/shl-us-regulatory-compliance/', 'duration': '0', 'job_levels': 'Mid-Professional, Professional Individual Contributor', 'languages': 'English (USA)', 'remote_support': 'Yes', 'test_type': 'Simulations', 'url': 'https://www.shl.com/solutions/products/product-catalog/view/automata-pro-new/'}, page_content='adaptive_support: No | description: An AI-powered coding simulation assessment that evaluates candidate’s programming ability. Offers a familiar IDE environment available in over 40 different programming languages and tests candidates using real-world coding problems.Your use of this assessment product may be subject to New York City Law 144 (Regulation of the Use of Automated Employment Decision Tools) (dated July 5, 2023). Compliance with Law 144 is your responsibility.\\r\\nRead more on https://www.shl.com/legal/shl-us-regulatory-compliance/ | duration: 0 | remote_support: Yes | test_type: Simulations | job_levels: Mid-Professional, Professional Individual Contributor | languages: English (USA)'),\n",
       "  Document(id='2a9ba033-9daf-45e8-acc5-20de1883a693', metadata={'adaptive_support': 'No', 'description': 'An AI-powered coding simulation assessment that evaluates candidate’s programming ability. Offers a familiar IDE environment available in over 40 different programming languages and tests candidates using real-world coding problems.Your use of this assessment product may be subject to New York City Law 144 (Regulation of the Use of Automated Employment Decision Tools) (dated July 5, 2023). Compliance with Law 144 is your responsibility.\\r\\nRead more on https://www.shl.com/legal/shl-us-regulatory-compliance/', 'duration': '0', 'job_levels': 'Mid-Professional, Professional Individual Contributor', 'languages': 'English (USA)', 'remote_support': 'Yes', 'test_type': 'Simulations', 'url': 'https://www.shl.com/solutions/products/product-catalog/view/automata-new/'}, page_content='adaptive_support: No | description: An AI-powered coding simulation assessment that evaluates candidate’s programming ability. Offers a familiar IDE environment available in over 40 different programming languages and tests candidates using real-world coding problems.Your use of this assessment product may be subject to New York City Law 144 (Regulation of the Use of Automated Employment Decision Tools) (dated July 5, 2023). Compliance with Law 144 is your responsibility.\\r\\nRead more on https://www.shl.com/legal/shl-us-regulatory-compliance/ | duration: 0 | remote_support: Yes | test_type: Simulations | job_levels: Mid-Professional, Professional Individual Contributor | languages: English (USA)'),\n",
       "  Document(id='9d3794f2-7981-49e3-9437-cff31cb550a6', metadata={'adaptive_support': 'No', 'description': 'The Programming Concepts test measures knowledge of the core aspects of computer science programming that is valid across programming languages. Designed for all programmers, this test covers the following topics:  Algorithms, Complex Data Types, Data Access, Productivity and Quality, Program Flow, Program Structure, Programming Paradigms, User Interface, Variables, Data Types, and Operators.', 'duration': '25', 'job_levels': 'Mid-Professional, Professional Individual Contributor', 'languages': 'English (USA)', 'remote_support': 'Yes', 'test_type': 'Knowledge & Skills', 'url': 'https://www.shl.com/solutions/products/product-catalog/view/programming-concepts/'}, page_content='adaptive_support: No | description: The Programming Concepts test measures knowledge of the core aspects of computer science programming that is valid across programming languages. Designed for all programmers, this test covers the following topics:  Algorithms, Complex Data Types, Data Access, Productivity and Quality, Program Flow, Program Structure, Programming Paradigms, User Interface, Variables, Data Types, and Operators. | duration: 25 | remote_support: Yes | test_type: Knowledge & Skills | job_levels: Mid-Professional, Professional Individual Contributor | languages: English (USA)'),\n",
       "  Document(id='dbbc815b-86fe-4395-b8d0-95b4de2cbd32', metadata={'adaptive_support': 'No', 'description': 'Multi-choice test that measures the knowledge of C programming basics, functions, arrays, composed data types, and advanced C concepts like SLF, file handling and dynamic memory.', 'duration': '10', 'job_levels': 'Mid-Professional, Professional Individual Contributor', 'languages': 'English (USA)', 'remote_support': 'Yes', 'test_type': 'Knowledge & Skills', 'url': 'https://www.shl.com/solutions/products/product-catalog/view/c-programming-new/'}, page_content='adaptive_support: No | description: Multi-choice test that measures the knowledge of C programming basics, functions, arrays, composed data types, and advanced C concepts like SLF, file handling and dynamic memory. | duration: 10 | remote_support: Yes | test_type: Knowledge & Skills | job_levels: Mid-Professional, Professional Individual Contributor | languages: English (USA)'),\n",
       "  Document(id='21f5ba92-a7b7-4f35-a3c5-b7355f369115', metadata={'adaptive_support': 'No', 'description': 'Multi-choice test that measures the knowledge of C# programming structure, functions, collections, enumeration, exception handling, OOPs constructs, inheritance, event handling and operator overloading.', 'duration': '9', 'job_levels': 'Mid-Professional, Professional Individual Contributor', 'languages': 'English (USA)', 'remote_support': 'Yes', 'test_type': 'Knowledge & Skills', 'url': 'https://www.shl.com/solutions/products/product-catalog/view/c-programming-new-4039/'}, page_content='adaptive_support: No | description: Multi-choice test that measures the knowledge of C# programming structure, functions, collections, enumeration, exception handling, OOPs constructs, inheritance, event handling and operator overloading. | duration: 9 | remote_support: Yes | test_type: Knowledge & Skills | job_levels: Mid-Professional, Professional Individual Contributor | languages: English (USA)'),\n",
       "  Document(id='2020f386-cab3-43ce-8068-e1599772d5ce', metadata={'adaptive_support': 'No', 'description': 'A simulated compiler integrated test to measure debugging skills in C, C++ and Java. The test checks the ability to fix logical or syntactical errors and to reuse an existing code.Your use of this assessment product may be subject to New York City Law 144 (Regulation of the Use of Automated Employment Decision Tools) (dated July 5, 2023). Compliance with Law 144 is your responsibility.\\r\\nRead more on https://www.shl.com/legal/shl-us-regulatory-compliance/', 'duration': '0', 'job_levels': 'Mid-Professional', 'languages': 'English (USA)', 'remote_support': 'Yes', 'test_type': 'Simulations', 'url': 'https://www.shl.com/solutions/products/product-catalog/view/automata-fix-new/'}, page_content='adaptive_support: No | description: A simulated compiler integrated test to measure debugging skills in C, C++ and Java. The test checks the ability to fix logical or syntactical errors and to reuse an existing code.Your use of this assessment product may be subject to New York City Law 144 (Regulation of the Use of Automated Employment Decision Tools) (dated July 5, 2023). Compliance with Law 144 is your responsibility.\\r\\nRead more on https://www.shl.com/legal/shl-us-regulatory-compliance/ | duration: 0 | remote_support: Yes | test_type: Simulations | job_levels: Mid-Professional | languages: English (USA)'),\n",
       "  Document(id='e3f15784-ed62-4fe7-a022-63ea33018c67', metadata={'adaptive_support': 'No', 'description': 'Multi-choice test that measures the knowledge of basic Java constructs, OOP concepts, file handling, exception handling, threads, generic class and inner class.', 'duration': '13', 'job_levels': 'Mid-Professional, Professional Individual Contributor', 'languages': 'English (USA)', 'remote_support': 'Yes', 'test_type': 'Knowledge & Skills', 'url': 'https://www.shl.com/solutions/products/product-catalog/view/core-java-entry-level-new/'}, page_content='adaptive_support: No | description: Multi-choice test that measures the knowledge of basic Java constructs, OOP concepts, file handling, exception handling, threads, generic class and inner class. | duration: 13 | remote_support: Yes | test_type: Knowledge & Skills | job_levels: Mid-Professional, Professional Individual Contributor | languages: English (USA)'),\n",
       "  Document(id='28ca7d4c-8598-481d-87df-72b3918b4fc5', metadata={'adaptive_support': 'No', 'description': 'Multi-choice test that measures the knowledge of basic Java constructs, OOP concepts, file handling, exception handling, threads, generics and inner class.', 'duration': '8', 'job_levels': 'Mid-Professional, Professional Individual Contributor', 'languages': 'English (USA)', 'remote_support': 'Yes', 'test_type': 'Knowledge & Skills', 'url': 'https://www.shl.com/solutions/products/product-catalog/view/java-web-services-new/'}, page_content='adaptive_support: No | description: Multi-choice test that measures the knowledge of basic Java constructs, OOP concepts, file handling, exception handling, threads, generics and inner class. | duration: 8 | remote_support: Yes | test_type: Knowledge & Skills | job_levels: Mid-Professional, Professional Individual Contributor | languages: English (USA)'),\n",
       "  Document(id='192a8023-6112-4f67-8f35-aa4a7c7b0f58', metadata={'adaptive_support': 'Yes', 'description': 'The next-generation Verify Numerical Ability Test provides a replacement for the existing Numerical Reasoning test in our Verify range of ability tests and the Global Cognitive Index – Adaptive Quantitative test, and measures the ability to:\\r\\n•\\tDerive the numerical problem from a written problem\\r\\n•\\tCalculate the answer to numerical equations\\r\\n•\\tWork with numerical data in a realistic workplace context\\r\\n\\r\\nThe test is 20 minutes long, has 16 items and is designed to provide an indication of how an individual will perform when asked to work with numerical information or statistical details.', 'duration': '20', 'job_levels': 'Director, Entry-Level, Executive, Front Line Manager, General Population, Graduate, Manager, Mid-Professional, Professional Individual Contributor, Supervisor', 'languages': 'Arabic, Portuguese (Brazil), French (Canada), Chinese Simplified, Czech, Dutch, Finnish, French, German, Hungarian, Indonesian, English International, Italian, Japanese, Korean, Norwegian, Portuguese, Romanian, Russian, Slovak, Spanish, Swedish, Turkish, English (USA), Latin American Spanish, Polish, Serbian, Chinese Traditional, Danish, Thai, Greek', 'remote_support': 'Yes', 'test_type': 'Ability & Aptitude', 'url': 'https://www.shl.com/solutions/products/product-catalog/view/verify-numerical-ability/'}, page_content='adaptive_support: Yes | description: The next-generation Verify Numerical Ability Test provides a replacement for the existing Numerical Reasoning test in our Verify range of ability tests and the Global Cognitive Index – Adaptive Quantitative test, and measures the ability to:\\r\\n•\\tDerive the numerical problem from a written problem\\r\\n•\\tCalculate the answer to numerical equations\\r\\n•\\tWork with numerical data in a realistic workplace context\\r\\n\\r\\nThe test is 20 minutes long, has 16 items and is designed to provide an indication of how an individual will perform when asked to work with numerical information or statistical details. | duration: 20 | remote_support: Yes | test_type: Ability & Aptitude | job_levels: Director, Entry-Level, Executive, Front Line Manager, General Population, Graduate, Manager, Mid-Professional, Professional Individual Contributor, Supervisor | languages: Arabic, Portuguese (Brazil), French (Canada), Chinese Simplified, Czech, Dutch, Finnish, French, German, Hungarian, Indonesian, English International, Italian, Japanese, Korean, Norwegian, Portuguese, Romanian, Russian, Slovak, Spanish, Swedish, Turkish, English (USA), Latin American Spanish, Polish, Serbian, Chinese Traditional, Danish, Thai, Greek'),\n",
       "  Document(id='61bf1ff9-59af-454c-8086-218fa58fa393', metadata={'adaptive_support': 'No', 'description': 'Multi-choice test that measures the knowledge of Ruby strings, collection classes, regular expressions, methods, object oriented programming, exception handling, database connectivity, threads, scripting, network programming and web applications.', 'duration': '11', 'job_levels': 'Mid-Professional, Professional Individual Contributor', 'languages': 'English (USA)', 'remote_support': 'Yes', 'test_type': 'Knowledge & Skills', 'url': 'https://www.shl.com/solutions/products/product-catalog/view/ruby-new/'}, page_content='adaptive_support: No | description: Multi-choice test that measures the knowledge of Ruby strings, collection classes, regular expressions, methods, object oriented programming, exception handling, database connectivity, threads, scripting, network programming and web applications. | duration: 11 | remote_support: Yes | test_type: Knowledge & Skills | job_levels: Mid-Professional, Professional Individual Contributor | languages: English (USA)'),\n",
       "  Document(id='089e9bc0-1b84-45a9-820d-b93507779efc', metadata={'adaptive_support': 'No', 'description': 'Multi-choice test that measures the knowledge of .NET framework and controls, C# fundamentals, OOPs concepts and advanced topics such as data access components, state management and security services.', 'duration': '13', 'job_levels': 'Mid-Professional, Professional Individual Contributor', 'languages': 'English (USA)', 'remote_support': 'Yes', 'test_type': 'Knowledge & Skills', 'url': 'https://www.shl.com/solutions/products/product-catalog/view/asp-net-with-c-new/'}, page_content='adaptive_support: No | description: Multi-choice test that measures the knowledge of .NET framework and controls, C# fundamentals, OOPs concepts and advanced topics such as data access components, state management and security services. | duration: 13 | remote_support: Yes | test_type: Knowledge & Skills | job_levels: Mid-Professional, Professional Individual Contributor | languages: English (USA)'),\n",
       "  Document(id='d7b7b526-0cc2-47f9-9f62-8d0d8e919633', metadata={'adaptive_support': 'No', 'description': 'Multi-choice test that measures the knowledge of Java class design, exceptions, generics, collections, concurrency, JDBC and Java I/O fundamentals.', 'duration': '18', 'job_levels': 'Mid-Professional, Professional Individual Contributor', 'languages': 'English (USA)', 'remote_support': 'Yes', 'test_type': 'Knowledge & Skills', 'url': 'https://www.shl.com/solutions/products/product-catalog/view/java-8-new/'}, page_content='adaptive_support: No | description: Multi-choice test that measures the knowledge of Java class design, exceptions, generics, collections, concurrency, JDBC and Java I/O fundamentals. | duration: 18 | remote_support: Yes | test_type: Knowledge & Skills | job_levels: Mid-Professional, Professional Individual Contributor | languages: English (USA)'),\n",
       "  Document(id='6bf5a140-049c-43c5-a094-c760b426f057', metadata={'adaptive_support': 'No', 'description': 'Multi-choice test that measures the knowledge of basic Java constructs, OOP concepts, files and exception handling, and advanced Java concepts like generics, collections, threads, strings and concurrency.', 'duration': '13', 'job_levels': 'Mid-Professional, Professional Individual Contributor', 'languages': 'English (USA)', 'remote_support': 'Yes', 'test_type': 'Knowledge & Skills', 'url': 'https://www.shl.com/solutions/products/product-catalog/view/core-java-advanced-level-new/'}, page_content='adaptive_support: No | description: Multi-choice test that measures the knowledge of basic Java constructs, OOP concepts, files and exception handling, and advanced Java concepts like generics, collections, threads, strings and concurrency. | duration: 13 | remote_support: Yes | test_type: Knowledge & Skills | job_levels: Mid-Professional, Professional Individual Contributor | languages: English (USA)'),\n",
       "  Document(id='992cd1b8-5c54-4817-a2b2-312c438ef367', metadata={'adaptive_support': 'Yes', 'description': 'The Verify Interactive Numerical Calculation test measures a candidate’s ability to work with numbers and use appropriate mathematics in different situations. The Numerical Ability test requires candidates to understand order of operations, perform numerical calculations, and identify errors in calculations. The Numerical Calculation test, though it is adaptive, is ideal for entry-level jobs that require completing simple numerical calculations quickly and accurately.', 'duration': '10', 'job_levels': 'Entry-Level', 'languages': 'English (USA), English International', 'remote_support': 'Yes', 'test_type': 'Ability & Aptitude', 'url': 'https://www.shl.com/solutions/products/product-catalog/view/shl-verify-interactive-numerical-calculation/'}, page_content='adaptive_support: Yes | description: The Verify Interactive Numerical Calculation test measures a candidate’s ability to work with numbers and use appropriate mathematics in different situations. The Numerical Ability test requires candidates to understand order of operations, perform numerical calculations, and identify errors in calculations. The Numerical Calculation test, though it is adaptive, is ideal for entry-level jobs that require completing simple numerical calculations quickly and accurately. | duration: 10 | remote_support: Yes | test_type: Ability & Aptitude | job_levels: Entry-Level | languages: English (USA), English International'),\n",
       "  Document(id='4a98026c-6556-4eb9-9f8f-f3c979e06563', metadata={'adaptive_support': 'No', 'description': 'Multi-choice test that measures the knowledge on the concepts of VB.NET assemblies, OOPs concepts, ADO.NET, multithreading, exception handling and GUI.', 'duration': '10', 'job_levels': 'Mid-Professional, Professional Individual Contributor', 'languages': 'English (USA)', 'remote_support': 'Yes', 'test_type': 'Knowledge & Skills', 'url': 'https://www.shl.com/solutions/products/product-catalog/view/vb-net-new/'}, page_content='adaptive_support: No | description: Multi-choice test that measures the knowledge on the concepts of VB.NET assemblies, OOPs concepts, ADO.NET, multithreading, exception handling and GUI. | duration: 10 | remote_support: Yes | test_type: Knowledge & Skills | job_levels: Mid-Professional, Professional Individual Contributor | languages: English (USA)'),\n",
       "  Document(id='ba2dd615-c6bb-45ed-950c-2618b48ad8ed', metadata={'adaptive_support': 'No', 'description': 'Multi-choice test that measures the knowledge of COBOL programming fundamentals, programming structure and different types of application processing.', 'duration': '10', 'job_levels': 'Mid-Professional, Professional Individual Contributor', 'languages': 'English (USA)', 'remote_support': 'Yes', 'test_type': 'Knowledge & Skills', 'url': 'https://www.shl.com/solutions/products/product-catalog/view/cobol-programming-new/'}, page_content='adaptive_support: No | description: Multi-choice test that measures the knowledge of COBOL programming fundamentals, programming structure and different types of application processing. | duration: 10 | remote_support: Yes | test_type: Knowledge & Skills | job_levels: Mid-Professional, Professional Individual Contributor | languages: English (USA)'),\n",
       "  Document(id='468d96df-c7a0-4f51-a41d-ebb59b09eb61', metadata={'adaptive_support': 'No', 'description': 'The Technical Checking assessment is part of the Verify suite of cognitive ability assessments. Technical Checking measures perceptual speed and accuracy. This assessment requires examinees to quickly and accurately match symbols and switches based on a given set of rules. The Technical Checking assessment is mostly non-verbal and features shapes and figures. As with all assessments included in the Verify suite, the Technical Checking assessment allows organizations to assess this aspect of cognitive ability in an unproctored setting. This assessment is appropriate for all job levels and job titles, but is especially relevant for jobs that require the ability to quickly assess the accuracy of information against a set of rules.', 'duration': '5', 'job_levels': 'Entry-Level', 'languages': 'Latin American Spanish, English (USA), English International, French, German, Italian, Dutch, Chinese Simplified', 'remote_support': 'Yes', 'test_type': 'Ability & Aptitude', 'url': 'https://www.shl.com/solutions/products/product-catalog/view/verify-technical-checking-next-generation/'}, page_content='adaptive_support: No | description: The Technical Checking assessment is part of the Verify suite of cognitive ability assessments. Technical Checking measures perceptual speed and accuracy. This assessment requires examinees to quickly and accurately match symbols and switches based on a given set of rules. The Technical Checking assessment is mostly non-verbal and features shapes and figures. As with all assessments included in the Verify suite, the Technical Checking assessment allows organizations to assess this aspect of cognitive ability in an unproctored setting. This assessment is appropriate for all job levels and job titles, but is especially relevant for jobs that require the ability to quickly assess the accuracy of information against a set of rules. | duration: 5 | remote_support: Yes | test_type: Ability & Aptitude | job_levels: Entry-Level | languages: Latin American Spanish, English (USA), English International, French, German, Italian, Dutch, Chinese Simplified'),\n",
       "  Document(id='e9151184-1805-4b4d-b048-f2b58aefaa91', metadata={'adaptive_support': 'Yes', 'description': \"This adaptive test measures the candidate's knowledge of how to employ effective verbal and non-verbal communication to send his or her message and manage conflicts. It is designed for all professionals and covers the following topics: Communication and Perception, Group Communication and Teamwork, Intercultural Communication, Interpersonal Communication, Interviewing and Communication, Intrapersonal Communication, Listening, Nonverbal Communication, Technology in Communication, Verbal Communication, and Language.\", 'duration': '15', 'job_levels': 'Entry-Level, Front Line Manager, Manager, Mid-Professional, Professional Individual Contributor', 'languages': 'English (USA)', 'remote_support': 'Yes', 'test_type': 'Knowledge & Skills', 'url': 'https://www.shl.com/solutions/products/product-catalog/view/interpersonal-communications/'}, page_content=\"adaptive_support: Yes | description: This adaptive test measures the candidate's knowledge of how to employ effective verbal and non-verbal communication to send his or her message and manage conflicts. It is designed for all professionals and covers the following topics: Communication and Perception, Group Communication and Teamwork, Intercultural Communication, Interpersonal Communication, Interviewing and Communication, Intrapersonal Communication, Listening, Nonverbal Communication, Technology in Communication, Verbal Communication, and Language. | duration: 15 | remote_support: Yes | test_type: Knowledge & Skills | job_levels: Entry-Level, Front Line Manager, Manager, Mid-Professional, Professional Individual Contributor | languages: English (USA)\"),\n",
       "  Document(id='e345a627-2825-4963-be8e-049ed7217e66', metadata={'adaptive_support': 'No', 'description': 'Multi-choice test that measures the knowledge of different Java frameworks - Struts, Hibernate and Spring.', 'duration': '17', 'job_levels': 'Mid-Professional, Professional Individual Contributor', 'languages': 'English (USA)', 'remote_support': 'Yes', 'test_type': 'Knowledge & Skills', 'url': 'https://www.shl.com/solutions/products/product-catalog/view/java-frameworks-new/'}, page_content='adaptive_support: No | description: Multi-choice test that measures the knowledge of different Java frameworks - Struts, Hibernate and Spring. | duration: 17 | remote_support: Yes | test_type: Knowledge & Skills | job_levels: Mid-Professional, Professional Individual Contributor | languages: English (USA)'),\n",
       "  Document(id='144f3ef2-a04c-48c1-afa0-bc044a7640e9', metadata={'adaptive_support': 'No', 'description': 'Part of SHL’s High Potential solution and developed from SHL’s extensive research into high-potential programs, the HIPO Assessment Report 1.0 helps organizations identify individuals with the strongest potential to succeed in senior and challenging roles. Using assessments such as the Motivation Questionnaire, OPQ, and Verify Cognitive Ability Tests, the report evaluates critical areas of aspiration, ability, and engagement. This version is used in regions where normed data for Verify Gen 1 and UCF 1 continue to provide the most relevant benchmarks, offering organizations proven insights for high-potential identification and talent development.', 'duration': '0', 'job_levels': '', 'languages': '', 'remote_support': 'Yes', 'test_type': 'Competencies, Personality & Behaviour', 'url': 'https://www.shl.com/solutions/products/product-catalog/view/hipo-assessment-report-1-0/'}, page_content='adaptive_support: No | description: Part of SHL’s High Potential solution and developed from SHL’s extensive research into high-potential programs, the HIPO Assessment Report 1.0 helps organizations identify individuals with the strongest potential to succeed in senior and challenging roles. Using assessments such as the Motivation Questionnaire, OPQ, and Verify Cognitive Ability Tests, the report evaluates critical areas of aspiration, ability, and engagement. This version is used in regions where normed data for Verify Gen 1 and UCF 1 continue to provide the most relevant benchmarks, offering organizations proven insights for high-potential identification and talent development. | duration: 0 | remote_support: Yes | test_type: Competencies, Personality & Behaviour | job_levels:  | languages: ')],\n",
       " 'answer': '{\\n    \"recommended_assessments\": [\\n        {\\n            \"url\": null,\\n            \"adaptive_support\": \"No\",\\n            \"description\": \"An AI-powered coding simulation assessment that evaluates candidate’s programming ability. Offers a familiar IDE environment available in over 40 different programming languages and tests candidates using real-world coding problems. Your use of this assessment product may be subject to New York City Law 144 (Regulation of the Use of Automated Employment Decision Tools) (dated July 5, 2023). Compliance with Law 144 is your responsibility. Read more on https://www.shl.com/legal/shl-us-regulatory-compliance/\",\\n            \"duration\": 0,\\n            \"remote_support\": \"Yes\",\\n            \"test_type\": \"Simulations\",\\n            \"job_levels\": [\"Mid-Professional\", \"Professional Individual Contributor\"],\\n            \"languages\": [\"English (USA)\"]\\n        },\\n        {\\n            \"url\": null,\\n            \"adaptive_support\": \"No\",\\n            \"description\": \"The Programming Concepts test measures knowledge of the core aspects of computer science programming that is valid across programming languages. Designed for all programmers, this test covers the following topics:  Algorithms, Complex Data Types, Data Access, Productivity and Quality, Program Flow, Program Structure, Programming Paradigms, User Interface, Variables, Data Types, and Operators.\",\\n            \"duration\": 25,\\n            \"remote_support\": \"Yes\",\\n            \"test_type\": \"Knowledge & Skills\",\\n            \"job_levels\": [\"Mid-Professional\", \"Professional Individual Contributor\"],\\n            \"languages\": [\"English (USA)\"]\\n        },\\n        {\\n            \"url\": null,\\n            \"adaptive_support\": \"No\",\\n            \"description\": \"A simulated compiler integrated test to measure debugging skills in C, C++ and Java. The test checks the ability to fix logical or syntactical errors and to reuse an existing code. Your use of this assessment product may be subject to New York City Law 144 (Regulation of the Use of Automated Employment Decision Tools) (dated July 5, 2023). Compliance with Law 144 is your responsibility. Read more on https://www.shl.com/legal/shl-us-regulatory-compliance/\",\\n            \"duration\": 0,\\n            \"remote_support\": \"Yes\",\\n            \"test_type\": \"Simulations\",\\n            \"job_levels\": [\"Mid-Professional\"],\\n            \"languages\": [\"English (USA)\"]\\n        },\\n        {\\n            \"url\": null,\\n            \"adaptive_support\": \"No\",\\n            \"description\": \"Multi-choice test that measures the knowledge of C programming basics, functions, arrays, composed data types, and advanced C concepts like SLF, file handling and dynamic memory.\",\\n            \"duration\": 10,\\n            \"remote_support\": \"Yes\",\\n            \"test_type\": \"Knowledge & Skills\",\\n            \"job_levels\": [\"Mid-Professional\", \"Professional Individual Contributor\"],\\n            \"languages\": [\"English (USA)\"]\\n        },\\n        {\\n            \"url\": null,\\n            \"adaptive_support\": \"No\",\\n            \"description\": \"Multi-choice test that measures the knowledge of C# programming structure, functions, collections, enumeration, exception handling, OOPs constructs, inheritance, event handling and operator overloading.\",\\n            \"duration\": 9,\\n            \"remote_support\": \"Yes\",\\n            \"test_type\": \"Knowledge & Skills\",\\n            \"job_levels\": [\"Mid-Professional\", \"Professional Individual Contributor\"],\\n            \"languages\": [\"English (USA)\"]\\n        },\\n        {\\n            \"url\": null,\\n            \"adaptive_support\": \"No\",\\n            \"description\": \"Multi-choice test that measures the knowledge of Ruby strings, collection classes, regular expressions, methods, object oriented programming, exception handling, database connectivity, threads, scripting, network programming and web applications.\",\\n            \"duration\": 11,\\n            \"remote_support\": \"Yes\",\\n            \"test_type\": \"Knowledge & Skills\",\\n            \"job_levels\": [\"Mid-Professional\", \"Professional Individual Contributor\"],\\n            \"languages\": [\"English (USA)\"]\\n        },\\n        {\\n            \"url\": null,\\n            \"adaptive_support\": \"No\",\\n            \"description\": \"Multi-choice test that measures the knowledge of .NET framework and controls, C# fundamentals, OOPs concepts and advanced topics such as data access components, state management and security services.\",\\n            \"duration\": 13,\\n            \"remote_support\": \"Yes\",\\n            \"test_type\": \"Knowledge & Skills\",\\n            \"job_levels\": [\"Mid-Professional\", \"Professional Individual Contributor\"],\\n            \"languages\": [\"English (USA)\"]\\n        },\\n        {\\n            \"url\": null,\\n            \"adaptive_support\": \"No\",\\n            \"description\": \"Multi-choice test that measures the knowledge of Java class design, exceptions, generics, collections, concurrency, JDBC and Java I/O fundamentals.\",\\n            \"duration\": 18,\\n            \"remote_support\": \"Yes\",\\n            \"test_type\": \"Knowledge & Skills\",\\n            \"job_levels\": [\"Mid-Professional\", \"Professional Individual Contributor\"],\\n            \"languages\": [\"English (USA)\"]\\n        },\\n        {\\n            \"url\": null,\\n            \"adaptive_support\": \"No\",\\n            \"description\": \"Multi-choice test that measures the knowledge of basic Java constructs, OOP concepts, files and exception handling, and advanced Java concepts like generics, collections, threads, strings and concurrency.\",\\n            \"duration\": 13,\\n            \"remote_support\": \"Yes\",\\n            \"test_type\": \"Knowledge & Skills\",\\n            \"job_levels\": [\"Mid-Professional\", \"Professional Individual Contributor\"],\\n            \"languages\": [\"English (USA)\"]\\n        },\\n        {\\n            \"url\": null,\\n            \"adaptive_support\": \"No\",\\n            \"description\": \"Multi-choice test that measures the knowledge of different Java frameworks - Struts, Hibernate and Spring.\",\\n            \"duration\": 17,\\n            \"remote_support\": \"Yes\",\\n            \"test_type\": \"Knowledge & Skills\",\\n            \"job_levels\": [\"Mid-Professional\", \"Professional Individual Contributor\"],\\n            \"languages\": [\"English (USA)\"]\\n        }\\n    ]\\n}'}"
      ]
     },
     "execution_count": 99,
     "metadata": {},
     "output_type": "execute_result"
    }
   ],
   "source": [
    "query = \"Recommend a test for mid-professional level candidates that evaluates programming skills\"\n",
    "\n",
    "retrieval_chain.invoke({\"input\": query})"
   ]
  },
  {
   "cell_type": "code",
   "execution_count": null,
   "id": "58148b7d",
   "metadata": {},
   "outputs": [],
   "source": []
  }
 ],
 "metadata": {
  "kernelspec": {
   "display_name": "shl",
   "language": "python",
   "name": "python3"
  },
  "language_info": {
   "codemirror_mode": {
    "name": "ipython",
    "version": 3
   },
   "file_extension": ".py",
   "mimetype": "text/x-python",
   "name": "python",
   "nbconvert_exporter": "python",
   "pygments_lexer": "ipython3",
   "version": "3.10.17"
  }
 },
 "nbformat": 4,
 "nbformat_minor": 5
}
